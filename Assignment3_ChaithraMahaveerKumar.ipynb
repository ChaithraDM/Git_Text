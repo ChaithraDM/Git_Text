{
 "cells": [
  {
   "cell_type": "markdown",
   "metadata": {},
   "source": [
    "# Q1: Load all data and vectorize it with tf-idf vectorization. "
   ]
  },
  {
   "cell_type": "code",
   "execution_count": 16,
   "metadata": {},
   "outputs": [
    {
     "data": {
      "text/html": [
       "<div>\n",
       "<style>\n",
       "    .dataframe thead tr:only-child th {\n",
       "        text-align: right;\n",
       "    }\n",
       "\n",
       "    .dataframe thead th {\n",
       "        text-align: left;\n",
       "    }\n",
       "\n",
       "    .dataframe tbody tr th {\n",
       "        vertical-align: top;\n",
       "    }\n",
       "</style>\n",
       "<table border=\"1\" class=\"dataframe\">\n",
       "  <thead>\n",
       "    <tr style=\"text-align: right;\">\n",
       "      <th></th>\n",
       "      <th>artist</th>\n",
       "      <th>song</th>\n",
       "      <th>link</th>\n",
       "      <th>text</th>\n",
       "    </tr>\n",
       "  </thead>\n",
       "  <tbody>\n",
       "    <tr>\n",
       "      <th>0</th>\n",
       "      <td>ABBA</td>\n",
       "      <td>Ahe's My Kind Of Girl</td>\n",
       "      <td>/a/abba/ahes+my+kind+of+girl_20598417.html</td>\n",
       "      <td>Look at her face, it's a wonderful face  \\nAnd...</td>\n",
       "    </tr>\n",
       "    <tr>\n",
       "      <th>1</th>\n",
       "      <td>ABBA</td>\n",
       "      <td>Andante, Andante</td>\n",
       "      <td>/a/abba/andante+andante_20002708.html</td>\n",
       "      <td>Take it easy with me, please  \\nTouch me gentl...</td>\n",
       "    </tr>\n",
       "    <tr>\n",
       "      <th>2</th>\n",
       "      <td>ABBA</td>\n",
       "      <td>As Good As New</td>\n",
       "      <td>/a/abba/as+good+as+new_20003033.html</td>\n",
       "      <td>I'll never know why I had to go  \\nWhy I had t...</td>\n",
       "    </tr>\n",
       "    <tr>\n",
       "      <th>3</th>\n",
       "      <td>ABBA</td>\n",
       "      <td>Bang</td>\n",
       "      <td>/a/abba/bang_20598415.html</td>\n",
       "      <td>Making somebody happy is a question of give an...</td>\n",
       "    </tr>\n",
       "    <tr>\n",
       "      <th>4</th>\n",
       "      <td>ABBA</td>\n",
       "      <td>Bang-A-Boomerang</td>\n",
       "      <td>/a/abba/bang+a+boomerang_20002668.html</td>\n",
       "      <td>Making somebody happy is a question of give an...</td>\n",
       "    </tr>\n",
       "  </tbody>\n",
       "</table>\n",
       "</div>"
      ],
      "text/plain": [
       "  artist                   song                                        link  \\\n",
       "0   ABBA  Ahe's My Kind Of Girl  /a/abba/ahes+my+kind+of+girl_20598417.html   \n",
       "1   ABBA       Andante, Andante       /a/abba/andante+andante_20002708.html   \n",
       "2   ABBA         As Good As New        /a/abba/as+good+as+new_20003033.html   \n",
       "3   ABBA                   Bang                  /a/abba/bang_20598415.html   \n",
       "4   ABBA       Bang-A-Boomerang      /a/abba/bang+a+boomerang_20002668.html   \n",
       "\n",
       "                                                text  \n",
       "0  Look at her face, it's a wonderful face  \\nAnd...  \n",
       "1  Take it easy with me, please  \\nTouch me gentl...  \n",
       "2  I'll never know why I had to go  \\nWhy I had t...  \n",
       "3  Making somebody happy is a question of give an...  \n",
       "4  Making somebody happy is a question of give an...  "
      ]
     },
     "execution_count": 16,
     "metadata": {},
     "output_type": "execute_result"
    }
   ],
   "source": [
    "import numpy as np\n",
    "import csv\n",
    "import pandas as pd\n",
    "df = pd.read_csv(\"D:/UIC/IDS 566 ATA/Assignment/HW3/songdata.csv/songdata.csv\", header=0, delimiter=\",\", quoting=0)\n",
    "#csv_data=open(\"D:/UIC/IDS 566 ATA/Assignment/HW2/Tweets.csv\")\n",
    "#data = csv.reader(csv_data)\n",
    "df.head(5)"
   ]
  },
  {
   "cell_type": "code",
   "execution_count": 17,
   "metadata": {},
   "outputs": [
    {
     "name": "stdout",
     "output_type": "stream",
     "text": [
      "(57650, 5749)\n",
      "[[ 0.  0.  0. ...,  0.  0.  0.]\n",
      " [ 0.  0.  0. ...,  0.  0.  0.]\n",
      " [ 0.  0.  0. ...,  0.  0.  0.]\n",
      " ..., \n",
      " [ 0.  0.  0. ...,  0.  0.  0.]\n",
      " [ 0.  0.  0. ...,  0.  0.  0.]\n",
      " [ 0.  0.  0. ...,  0.  0.  0.]]\n"
     ]
    }
   ],
   "source": [
    "from sklearn.feature_extraction.text import CountVectorizer, TfidfVectorizer\n",
    "\n",
    "data_to_trans = df.text.tolist()\n",
    "vect = TfidfVectorizer(binary = False, min_df = 50)\n",
    "\n",
    "X = vect.fit_transform(data_to_trans)\n",
    "print(X.shape)\n",
    "print(X.toarray())"
   ]
  },
  {
   "cell_type": "markdown",
   "metadata": {},
   "source": [
    "# Q2: Apply a clustering algorithm with 3 clusters and find top 5 closest documents to each cluster’s centroid. Analyze your result."
   ]
  },
  {
   "cell_type": "code",
   "execution_count": 15,
   "metadata": {},
   "outputs": [
    {
     "name": "stdout",
     "output_type": "stream",
     "text": [
      "Cluster: 0 \n",
      " 24053    Domine Deus, Rex coelestis,  \\nDeus Pater omni...\n",
      "34925    See you've caught me in a coma  \\nAnd I don't ...\n",
      "41988    Do you remember, the first time you fell in lo...\n",
      "26314    I know you got a different picture in mind  \\n...\n",
      "34941    Gonna find a way to cure this loneliness  \\nYe...\n",
      "Name: text, dtype: object \n",
      "\n",
      "Cluster: 1 \n",
      " 24053    Domine Deus, Rex coelestis,  \\nDeus Pater omni...\n",
      "16477    [Puffy]  \\nAll I want is somebody who's gonna ...\n",
      "41988    Do you remember, the first time you fell in lo...\n",
      "16731    I don't understand  \\nI do all this for you  \\...\n",
      "15197    [Chorus:]  \\nLookin' for love in all the wrong...\n",
      "Name: text, dtype: object \n",
      "\n",
      "Cluster: 2 \n",
      " 24053    Domine Deus, Rex coelestis,  \\nDeus Pater omni...\n",
      "34925    See you've caught me in a coma  \\nAnd I don't ...\n",
      "31385    [Scratched sample] - \"I'm the man!\"  \\n  \\nI s...\n",
      "41588    Combeferre:  \\nAt Notre Dame  \\nThe sections a...\n",
      "37402    In the calling out to one another  \\nOf the lo...\n",
      "Name: text, dtype: object \n",
      "\n"
     ]
    }
   ],
   "source": [
    "import numpy as np\n",
    "from sklearn.cluster import KMeans\n",
    "kmeans = KMeans(3)\n",
    "kmeans.fit_predict(X)\n",
    "dist = kmeans.transform(X)\n",
    "for i in range(dist.shape[1]):\n",
    "    test = np.array(dist[:,i])\n",
    "    index = np.argsort(test)[:5]\n",
    "    print(\"Cluster: %d\"%i,\"\\n\",df.text.iloc[index],\"\\n\")"
   ]
  },
  {
   "cell_type": "markdown",
   "metadata": {},
   "source": [
    "The three clusters that are formed have different set of documents. With the top five documents close to the centroids of these clusters, we see that the clusters are not very well separated. They have a small overlap. For example, the document \"Do you remember, the first time you fell in lo...\" is present in both the first and the second cluster and \"Domine Deus, Rex coelestis,  \\nDeus Pater omni...\" is present in all three clusters."
   ]
  },
  {
   "cell_type": "markdown",
   "metadata": {},
   "source": [
    "# Q3: Reduce the dimension to 50 components using LSA and report top 5 features per component. Analyze your result. "
   ]
  },
  {
   "cell_type": "code",
   "execution_count": 18,
   "metadata": {},
   "outputs": [
    {
     "name": "stdout",
     "output_type": "stream",
     "text": [
      "['you' 'the' 'to' 'and' 'me']\n",
      "['you' 'me' 'love' 'baby' 'don']\n",
      "['she' 'her' 'me' 'girl' 'baby']\n",
      "['he' 'you' 'his' 'him' 'man']\n",
      "['it' 'he' 'don' 'we' 'yeah']\n",
      "['love' 'my' 'me' 'oh' 'baby']\n",
      "['we' 'he' 'love' 'his' 'our']\n",
      "['oh' 'baby' 'yeah' 'the' 'love']\n",
      "['love' 'it' 'is' 'the' 'do']\n",
      "['oh' 'my' 'la' 'it' 'was']\n",
      "['la' 'me' 'want' 'to' 'da']\n",
      "['oh' 'want' 'to' 'me' 'don']\n",
      "['your' 'll' 'be' 'will' 'gonna']\n",
      "['want' 'to' 'my' 'don' 'no']\n",
      "['baby' 'be' 'll' 'christmas' 'the']\n",
      "['no' 'don' 'they' 'll' 'know']\n",
      "['baby' 'is' 'it' 'can' 'the']\n",
      "['yeah' 'be' 'll' 'do' 'will']\n",
      "['my' 'do' 'don' 'if' 'know']\n",
      "['and' 'christmas' 'they' 'your' 'baby']\n",
      "['yeah' 'your' 'be' 'was' 'll']\n",
      "['yeah' 'don' 'go' 'know' 'hey']\n",
      "['no' 'do' 'go' 'let' 'was']\n",
      "['no' 'christmas' 'want' 'it' 'one']\n",
      "['let' 'christmas' 'go' 'got' 'girl']\n",
      "['christmas' 'can' 'on' 'your' 'no']\n",
      "['gonna' 'do' 'was' 'hey' 'your']\n",
      "['do' 'no' 've' 'and' 'got']\n",
      "['na' 'is' 'this' 'that' 'hey']\n",
      "['come' 'will' 'on' 'back' 'they']\n",
      "['na' 'hey' 'they' 'it' 'ang']\n",
      "['hey' 'girl' 'want' 'in' 'there']\n",
      "['can' 'if' 'gonna' 'get' 'away']\n",
      "['gonna' 'will' 'be' 'know' 'if']\n",
      "['on' 'if' 'come' 'for' 'down']\n",
      "['down' 'all' 'in' 'want' 'is']\n",
      "['all' 'want' 'come' 'they' 'chorus']\n",
      "['if' 'on' 'never' 'they' 'that']\n",
      "['down' 'when' 'your' 'all' 'she']\n",
      "['her' 'for' 'in' 'chorus' 'down']\n",
      "['will' 'this' 'of' 'down' 'time']\n",
      "['night' 'got' 'all' 'when' 'in']\n",
      "['girl' 'are' 'one' 'away' 'if']\n",
      "['her' 'is' 'will' 'as' 'want']\n",
      "['that' 'time' 'come' 'in' 'man']\n",
      "['away' 'girl' 'chorus' 'go' 'will']\n",
      "['be' 'now' 'wanna' 'heart' 'for']\n",
      "['one' 'day' 'was' 'down' 'away']\n",
      "['up' 'so' 'good' 'wanna' 'how']\n",
      "['little' 'girl' 'come' 'll' 'down']\n"
     ]
    }
   ],
   "source": [
    "import numpy as np\n",
    "from sklearn.decomposition import TruncatedSVD\n",
    "lsa = TruncatedSVD(50)\n",
    "lsa_data = lsa.fit_transform(X)\n",
    "\n",
    "vocab = np.array(vect.get_feature_names())\n",
    "for i in range(lsa_data.shape[1]):\n",
    "    order = np.abs(lsa.components_[i].argsort())[::-1]\n",
    "    print(vocab[order[:5]])\n"
   ]
  },
  {
   "cell_type": "markdown",
   "metadata": {},
   "source": [
    "By performing LSA and finding the first 5 features of each of the 50 components, it is seen that the songs mostly belong to romantic genre. Most of the features are mono-syllable words that include most common words like 'to','you','will','is','be','so','up','do' and so on."
   ]
  },
  {
   "cell_type": "markdown",
   "metadata": {},
   "source": [
    "# Q4: Run a clustering algorithm with 2-10 clusters on low dimension features and select the best number of clusters using elbow method. "
   ]
  },
  {
   "cell_type": "code",
   "execution_count": 19,
   "metadata": {},
   "outputs": [
    {
     "data": {
      "text/plain": [
       "[<matplotlib.lines.Line2D at 0x190708c5160>]"
      ]
     },
     "execution_count": 19,
     "metadata": {},
     "output_type": "execute_result"
    },
    {
     "data": {
      "image/png": "[encoded data removed]",
      "text/plain": [
       "<matplotlib.figure.Figure at 0x1906f509b00>"
      ]
     },
     "metadata": {},
     "output_type": "display_data"
    }
   ],
   "source": [
    "from sklearn.cluster import KMeans\n",
    "%matplotlib inline\n",
    "import matplotlib.pyplot as plt\n",
    "inertia = []\n",
    "for i in range(2,10):\n",
    "    kmeans = KMeans(i)\n",
    "    kmeans.fit_predict(lsa_data)\n",
    "    inertia.append(kmeans.inertia_)\n",
    "plt.plot(range(2, 10), inertia)"
   ]
  },
  {
   "cell_type": "markdown",
   "metadata": {},
   "source": [
    "From the elbow curve, we can see that the 6 is the best number of clusters "
   ]
  },
  {
   "cell_type": "markdown",
   "metadata": {},
   "source": [
    "# Q5: Use the best number of clusters that you have found and find top 5 closest documents to each cluster’s centroid. Compare your result with Q2 "
   ]
  },
  {
   "cell_type": "code",
   "execution_count": 22,
   "metadata": {},
   "outputs": [
    {
     "name": "stdout",
     "output_type": "stream",
     "text": [
      "Top 5 closest documents to -\n",
      "\n",
      "Cluster 0 : \n",
      "\n",
      " 47082    Now get the fuck up off me nigga  \\n  \\nAs I, ...\n",
      "8546     The sun rises and sets on time every day of th...\n",
      "42490    I'm no stranger to deception  \\nI have lied an...\n",
      "17348    I am you are me  \\nGood woman said you gotta b...\n",
      "53460    One week of every year is designated National ...\n",
      "Name: text, dtype: object \n",
      "\n",
      "Cluster 1 : \n",
      "\n",
      " 14407    Johnny has a problem  \\nJohnny is out of contr...\n",
      "19674    There was a little boy once upon a time  \\nWho...\n",
      "43924    Sun comes up Sunday morn  \\nOn the little chur...\n",
      "33980    Give him a soft guitar to play what he choose ...\n",
      "25799    Now There's a man you'll hear about  \\nMost an...\n",
      "Name: text, dtype: object \n",
      "\n",
      "Cluster 2 : \n",
      "\n",
      " 13980    There she stands, this lovely creature  \\nTher...\n",
      "28312    (Original by Robyn Hitchcock)  \\n  \\nI used to...\n",
      "35289    Some ladies love diamonds  \\nFast cars and fre...\n",
      "36463    She sat on the pavement  \\nAs I pulled in the ...\n",
      "54129    Grace  \\nShe takes the blame  \\nShe covers the...\n",
      "Name: text, dtype: object \n",
      "\n",
      "Cluster 3 : \n",
      "\n",
      " 46200    [Originally by The Dickies]  \\n  \\nDear Sirs, ...\n",
      "13131    Ha  \\nWhatever will be,  \\nWill be  \\n  \\nDele...\n",
      "21507    You can hear, hear it comin'  \\nLike a train o...\n",
      "22921      \\n  \\n  \\nMy mom bought you when I was just ...\n",
      "6603     I'd rather play noughts and crosses with you  ...\n",
      "Name: text, dtype: object \n",
      "\n",
      "Cluster 4 : \n",
      "\n",
      " 49372    Do you mean it ?  \\nDo you mean it ?  \\nDo you...\n",
      "18168    Put 'em on  \\nPut the big boots on  \\nBaby put...\n",
      "22858    La la l'amour  \\nGotta a lotta la la l'amour  ...\n",
      "14264    Long ago the brothers fought  \\nBut still the ...\n",
      "40447    I'm King Kong and I'm ten feet long,  \\nGot a ...\n",
      "Name: text, dtype: object \n",
      "\n",
      "Cluster 5 : \n",
      "\n",
      " 51796    Like a star slipping out of place  \\nSliding f...\n",
      "21445    Eh eh eh eh eh eh oh  \\n  \\nSay you want to wa...\n",
      "36207    Settle down, class  \\nNow you've passed  \\nYou...\n",
      "22944    \"They want to hear the thanksgiving song! All ...\n",
      "8186     In the alley where have I grown  \\nHot night s...\n",
      "Name: text, dtype: object \n",
      "\n"
     ]
    }
   ],
   "source": [
    "kmeans = KMeans(6)\n",
    "kmeans.fit_predict(lsa_data)\n",
    "dist = kmeans.transform(lsa_data)\n",
    "print(\"Top 5 closest documents to -\\n\")\n",
    "for i in range(dist.shape[1]):\n",
    "    test = np.array(dist[:,i])\n",
    "    index = np.argsort(test)[:5]\n",
    "    print(\"Cluster %d :\"%i,\"\\n\\n\",df.text.iloc[index],\"\\n\")"
   ]
  },
  {
   "cell_type": "markdown",
   "metadata": {},
   "source": [
    "The clusters are well separated in this case as compared to the clusters in question 2. The top 5 documents close to each of the centroids are very closely related to each other. The cluster 4 clearly has army and war related songs, while the cluster 2 has songs with 'woman' as the theme "
   ]
  },
  {
   "cell_type": "markdown",
   "metadata": {},
   "source": [
    "# Q6: Reduce dimension to 2 components and find 3 clusters in data and plot them using a scatter plot with different colors. Analyze your result. "
   ]
  },
  {
   "cell_type": "code",
   "execution_count": 23,
   "metadata": {},
   "outputs": [
    {
     "data": {
      "text/plain": [
       "<matplotlib.collections.PathCollection at 0x1906fd774e0>"
      ]
     },
     "execution_count": 23,
     "metadata": {},
     "output_type": "execute_result"
    },
    {
     "data": {
      "image/png": "[encoded data removed]",
      "text/plain": [
       "<matplotlib.figure.Figure at 0x1906e225cf8>"
      ]
     },
     "metadata": {},
     "output_type": "display_data"
    }
   ],
   "source": [
    "from sklearn.cluster import KMeans\n",
    "%matplotlib inline\n",
    "import matplotlib.pyplot as plt\n",
    "from sklearn.decomposition import PCA\n",
    "lsa = TruncatedSVD(2)\n",
    "Z = lsa.fit_transform(X)\n",
    "colors = np.array(['y', 'g', 'b'])\n",
    "kmeans = KMeans(3, init = 'random', random_state = 10000, n_init = 1)\n",
    "clusters = kmeans.fit_predict(Z)\n",
    "plt.scatter(Z[:, 0], Z[:, 1], 4, colors[clusters])\n",
    "plt.scatter(kmeans.cluster_centers_[:, 0], kmeans.cluster_centers_[:, 1], 40,'k')"
   ]
  },
  {
   "cell_type": "markdown",
   "metadata": {},
   "source": [
    "Large part of the data belong with one cluster. While, the rest are distributed with the other two - blue and dark green - clusters. We can see that the centroids of these clusters are closer to each other than they are to the third cluster."
   ]
  }
 ],
 "metadata": {
  "kernelspec": {
   "display_name": "Python 3",
   "language": "python",
   "name": "python3"
  },
  "language_info": {
   "codemirror_mode": {
    "name": "ipython",
    "version": 3
   },
   "file_extension": ".py",
   "mimetype": "text/x-python",
   "name": "python",
   "nbconvert_exporter": "python",
   "pygments_lexer": "ipython3",
   "version": "3.6.3"
  }
 },
 "nbformat": 4,
 "nbformat_minor": 2
}
